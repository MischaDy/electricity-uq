{
 "cells": [
  {
   "cell_type": "code",
   "execution_count": 11,
   "id": "3a29f60d-c30f-47fb-960a-70e3595294a0",
   "metadata": {},
   "outputs": [
    {
     "name": "stdout",
     "output_type": "stream",
     "text": [
      "loading train/test data\n"
     ]
    },
    {
     "name": "stderr",
     "output_type": "stream",
     "text": [
      "C:\\Users\\Mischa\\Desktop\\Uni\\Master\\MA\\code\\my_code\\helpers\\misc_helpers.py:116: SettingWithCopyWarning: \n",
      "A value is trying to be set on a copy of a slice from a DataFrame\n",
      "\n",
      "See the caveats in the documentation: https://pandas.pydata.org/pandas-docs/stable/user_guide/indexing.html#returning-a-view-versus-a-copy\n",
      "  arr.drop(columns=ts_cols, inplace=True)  # todo: works bc no ts cols present?\n",
      "C:\\Users\\Mischa\\Desktop\\Uni\\Master\\MA\\code\\my_code\\helpers\\misc_helpers.py:116: SettingWithCopyWarning: \n",
      "A value is trying to be set on a copy of a slice from a DataFrame\n",
      "\n",
      "See the caveats in the documentation: https://pandas.pydata.org/pandas-docs/stable/user_guide/indexing.html#returning-a-view-versus-a-copy\n",
      "  arr.drop(columns=ts_cols, inplace=True)  # todo: works bc no ts cols present?\n",
      "C:\\Users\\Mischa\\Desktop\\Uni\\Master\\MA\\code\\my_code\\helpers\\misc_helpers.py:116: SettingWithCopyWarning: \n",
      "A value is trying to be set on a copy of a slice from a DataFrame\n",
      "\n",
      "See the caveats in the documentation: https://pandas.pydata.org/pandas-docs/stable/user_guide/indexing.html#returning-a-view-versus-a-copy\n",
      "  arr.drop(columns=ts_cols, inplace=True)  # todo: works bc no ts cols present?\n",
      "C:\\Users\\Mischa\\Desktop\\Uni\\Master\\MA\\code\\my_code\\helpers\\misc_helpers.py:116: SettingWithCopyWarning: \n",
      "A value is trying to be set on a copy of a slice from a DataFrame\n",
      "\n",
      "See the caveats in the documentation: https://pandas.pydata.org/pandas-docs/stable/user_guide/indexing.html#returning-a-view-versus-a-copy\n",
      "  arr.drop(columns=ts_cols, inplace=True)  # todo: works bc no ts cols present?\n"
     ]
    },
    {
     "name": "stdout",
     "output_type": "stream",
     "text": [
      "done\n"
     ]
    }
   ],
   "source": [
    "import settings\n",
    "import settings_update\n",
    "from helpers import misc_helpers\n",
    "from helpers.compute_metrics import compute_metrics_uq, compute_metrics_det\n",
    "from helpers.io_helper import IO_Helper\n",
    "from helpers.arr_helpers import get_method_to_arrs_gen\n",
    "\n",
    "RUN_SIZE = 'full'\n",
    "ARRAYS_FOLDER = 'arrays'\n",
    "MODELS_FOLDER = 'models'\n",
    "\n",
    "METHODS_WHITELIST = set([\n",
    "    'native_qhgbr',\n",
    "    'native_qr',\n",
    "    'native_gp',\n",
    "    'native_mvnn',\n",
    "    'posthoc_cp_hgbr',\n",
    "    'posthoc_cp_linreg',\n",
    "    'posthoc_cp_nn',\n",
    "    'posthoc_la_nn',\n",
    "])\n",
    "UQ_METHOD_TO_ARR_NAMES_DICT = {\n",
    "    'native_qhgbr': [\n",
    "        'native_qhgbr_y_pred_n210432_it0.npy',\n",
    "        'native_qhgbr_y_quantiles_n210432_it0.npy',\n",
    "        'native_qhgbr_y_std_n210432_it0.npy',\n",
    "    ],\n",
    "    'native_qr': [\n",
    "        'native_quantile_regression_nn_y_pred_n210432_it300_nh2_hs50.npy',\n",
    "        'native_quantile_regression_nn_y_quantiles_n210432_it300_nh2_hs50.npy',\n",
    "        'native_quantile_regression_nn_y_std_n210432_it300_nh2_hs50.npy',\n",
    "    ],\n",
    "    'native_gp': [\n",
    "        'native_gpytorch_y_pred_n210432_it200_new.npy',\n",
    "        'native_gpytorch_y_quantiles_n210432_it200_new.npy',\n",
    "        'native_gpytorch_y_std_n210432_it200_new.npy',\n",
    "    ],\n",
    "    'native_mvnn': [\n",
    "        'native_mvnn_y_pred_n210432_it100_nh2_hs50.npy',\n",
    "        'native_mvnn_y_quantiles_n210432_it100_nh2_hs50.npy',\n",
    "        'native_mvnn_y_std_n210432_it100_nh2_hs50.npy',\n",
    "    ],\n",
    "    'posthoc_cp_hgbr': [\n",
    "        'posthoc_conformal_prediction_base_model_hgbr_y_pred_n210432_it5.npy',\n",
    "        'posthoc_conformal_prediction_base_model_hgbr_y_quantiles_n210432_it5.npy',\n",
    "        'posthoc_conformal_prediction_base_model_hgbr_y_std_n210432_it5.npy',\n",
    "    ],\n",
    "    'posthoc_cp_linreg': [\n",
    "        'posthoc_conformal_prediction_base_model_linreg_y_pred_n210432_it5.npy',\n",
    "        'posthoc_conformal_prediction_base_model_linreg_y_quantiles_n210432_it5.npy',\n",
    "        'posthoc_conformal_prediction_base_model_linreg_y_std_n210432_it5.npy',\n",
    "    ],\n",
    "    'posthoc_cp_nn': [\n",
    "        'posthoc_conformal_prediction_base_model_nn_y_pred_n210432_it5_cp2.npy',\n",
    "        'posthoc_conformal_prediction_base_model_nn_y_quantiles_n210432_it5_cp2.npy',\n",
    "        'posthoc_conformal_prediction_base_model_nn_y_std_n210432_it5_cp2.npy',\n",
    "    ],\n",
    "    'posthoc_la_nn': [\n",
    "        'posthoc_laplace_approximation_base_model_nn_y_pred_n210432_it1000_la2.npy',\n",
    "        'posthoc_laplace_approximation_base_model_nn_y_quantiles_n210432_it1000_la2.npy',\n",
    "        'posthoc_laplace_approximation_base_model_nn_y_std_n210432_it1000_la2.npy',\n",
    "    ],\n",
    "}\n",
    "\n",
    "\n",
    "print('loading train/test data')\n",
    "settings.RUN_SIZE = RUN_SIZE\n",
    "settings_update.update_run_size_setup()\n",
    "X_train, y_train, X_val, y_val, X_test, y_test, X, y, scaler_y = misc_helpers.get_data(\n",
    "    filepath=settings.DATA_FILEPATH,\n",
    "    train_years=settings.TRAIN_YEARS,\n",
    "    val_years=settings.VAL_YEARS,\n",
    "    test_years=settings.TEST_YEARS,\n",
    "    n_points_per_group=settings.N_POINTS_PER_GROUP,\n",
    "    do_standardize_data=True,\n",
    ")\n",
    "\n",
    "y_train, y_val, y_test, y = map(scaler_y.inverse_transform, [y_train, y_val, y_test, y])\n",
    "y_train, y_val, y_test, y = misc_helpers.make_arrs_1d(y_train, y_val, y_test, y)\n",
    "print('done')"
   ]
  },
  {
   "cell_type": "code",
   "execution_count": 5,
   "id": "687d1c54-3d2a-48ff-b875-9959f0a12c8f",
   "metadata": {},
   "outputs": [
    {
     "name": "stderr",
     "output_type": "stream",
     "text": [
      "WARNING:root:At least one IO_Helper param of [filename_parts, methods_kwargs] is None, so not all functionality will be available!\n"
     ]
    },
    {
     "name": "stdout",
     "output_type": "stream",
     "text": [
      "loading predictions\n",
      "done\n"
     ]
    }
   ],
   "source": [
    "print('loading predictions')\n",
    "io_helper = IO_Helper(arrays_folder=ARRAYS_FOLDER, models_folder=MODELS_FOLDER)\n",
    "\n",
    "n_test_samples = y_test.shape[0]\n",
    "\n",
    "uq_method_to_arrs_gen = get_method_to_arrs_gen(\n",
    "    methods_whitelist=METHODS_WHITELIST,\n",
    "    method_to_arr_names_dict=UQ_METHOD_TO_ARR_NAMES_DICT,\n",
    "    io_helper=io_helper,\n",
    ")\n",
    "uq_method_to_arrs_dict = dict(uq_method_to_arrs_gen)\n",
    "print('done')"
   ]
  },
  {
   "cell_type": "code",
   "execution_count": 12,
   "id": "23a1d042-1fa2-49ea-b9e5-263aea5b8ea6",
   "metadata": {},
   "outputs": [
    {
     "name": "stdout",
     "output_type": "stream",
     "text": [
      "plotting coverage for native_qhgbr:\n",
      "[0. 0. 0. 0. 0. 0. 0. 0. 0. 0. 0. 0. 0. 0. 0. 0. 0. 0. 0. 0. 0. 0. 0. 0.\n",
      " 0. 0. 0. 0. 0. 0. 0. 0. 0. 0. 0. 0. 0. 0. 0. 0. 0. 0. 0. 0. 0. 0. 0. 0.\n",
      " 0. 0. 0. 0. 0. 0. 0. 0. 0. 0. 0. 0. 0. 0. 0. 0. 0. 0. 0. 0. 0. 0. 0. 0.\n",
      " 0. 0. 0. 0. 0. 0. 0. 0. 0. 0. 0. 0. 0. 0. 0. 0. 0. 0. 0. 0. 0. 0. 0. 0.\n",
      " 0. 0. 0.]\n",
      "done\n"
     ]
    }
   ],
   "source": [
    "import numpy as np\n",
    "\n",
    "# todo: needs to map coverage level -> quantiles to consider first. ==> does this plot even make sense?\n",
    "\n",
    "y_test_rep = np.vstack([y_test] * len(settings.QUANTILES))\n",
    "y_test_rep = y_test_rep.transpose()\n",
    "for method, arrs in uq_method_to_arrs_dict.items():\n",
    "    print(f'plotting coverage for {method}:')\n",
    "    y_pred, y_quantiles, y_std = arrs\n",
    "    y_pred_test, y_quantiles_test, y_std_test = [arr[-n_test_samples:] for arr in arrs]\n",
    "\n",
    "    coverage_arr = (y_quantiles_test <= y_test_rep) & (y_test_rep <= y_quantiles_test)\n",
    "    coverages = coverage_arr.mean(axis=0)\n",
    "    print(coverages)\n",
    "    break\n",
    "print('done')"
   ]
  },
  {
   "cell_type": "code",
   "execution_count": 16,
   "id": "8964b1ad-e314-458f-80d9-2e7010f5189d",
   "metadata": {},
   "outputs": [
    {
     "data": {
      "text/plain": [
       "(9720.75,\n",
       " array([ 9464.96837461,  9426.58447783,  9460.96736125,  9470.20389387,\n",
       "         9645.4728867 ,  9567.83115814,  9641.5536068 ,  9639.10411063,\n",
       "         9586.56120637,  9681.06860927,  9618.25125628,  9595.31154822,\n",
       "         9571.12999974,  9543.39041269,  9634.55906551,  9639.75453989,\n",
       "         9540.08086564,  9628.37190492,  9587.75121651,  9597.3218912 ,\n",
       "         9610.82091652,  9665.13841151,  9628.28304679,  9647.26902057,\n",
       "         9638.86940871,  9699.17109405,  9698.29933745,  9655.34830829,\n",
       "         9622.54867144,  9685.03119384,  9719.25998357,  9709.77917694,\n",
       "         9756.86654608,  9699.4467834 ,  9669.65711726,  9652.15346734,\n",
       "         9657.53841721,  9684.47837086,  9733.06369883,  9727.12460044,\n",
       "         9751.59393431,  9733.32959501,  9740.13879326,  9750.12605743,\n",
       "         9751.47589462,  9721.70394573,  9720.84691895,  9766.05075682,\n",
       "         9781.8431065 ,  9709.94784506,  9720.19318755,  9730.03009841,\n",
       "         9786.05501669,  9731.45489863,  9748.48072872,  9764.91085909,\n",
       "         9777.59728274,  9768.62005709,  9799.79559979,  9823.74837145,\n",
       "         9810.80404623,  9789.47092702,  9822.96079978,  9788.60474721,\n",
       "         9778.21092278,  9792.15268933,  9843.73703373,  9822.75318354,\n",
       "         9775.63077192,  9779.72530583,  9775.76447641,  9818.79974215,\n",
       "         9807.19284097,  9822.27978089,  9877.6823485 ,  9877.24296301,\n",
       "         9831.67165232,  9861.35536277,  9822.90394633,  9879.06202375,\n",
       "         9852.22720643,  9903.39829086,  9829.41558175,  9892.52990266,\n",
       "         9855.94783877,  9858.52535006,  9899.68782409,  9892.65308816,\n",
       "         9856.92309466,  9932.40571035,  9915.77210836,  9925.80936915,\n",
       "         9886.25722214,  9915.61049173,  9976.74920794,  9978.67333458,\n",
       "         9996.97749587,  9985.06276385, 10100.59766928]))"
      ]
     },
     "execution_count": 16,
     "metadata": {},
     "output_type": "execute_result"
    }
   ],
   "source": [
    "y_test_rep[0][0], y_quantiles_test[0]"
   ]
  }
 ],
 "metadata": {
  "kernelspec": {
   "display_name": "Python 3 (ipykernel)",
   "language": "python",
   "name": "python3"
  },
  "language_info": {
   "codemirror_mode": {
    "name": "ipython",
    "version": 3
   },
   "file_extension": ".py",
   "mimetype": "text/x-python",
   "name": "python",
   "nbconvert_exporter": "python",
   "pygments_lexer": "ipython3",
   "version": "3.12.7"
  }
 },
 "nbformat": 4,
 "nbformat_minor": 5
}
