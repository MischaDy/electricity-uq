{
 "cells": [
  {
   "cell_type": "markdown",
   "id": "bbf2889c-a99c-4edf-a6de-16427d446422",
   "metadata": {},
   "source": [
    "# Prepare Data"
   ]
  },
  {
   "cell_type": "code",
   "execution_count": 181,
   "id": "fb0b3bd2-fdfa-4c83-abb7-fdac95a19b23",
   "metadata": {},
   "outputs": [
    {
     "data": {
      "text/html": [
       "<div>\n",
       "<style scoped>\n",
       "    .dataframe tbody tr th:only-of-type {\n",
       "        vertical-align: middle;\n",
       "    }\n",
       "\n",
       "    .dataframe tbody tr th {\n",
       "        vertical-align: top;\n",
       "    }\n",
       "\n",
       "    .dataframe thead th {\n",
       "        text-align: right;\n",
       "    }\n",
       "</style>\n",
       "<table border=\"1\" class=\"dataframe\">\n",
       "  <thead>\n",
       "    <tr style=\"text-align: right;\">\n",
       "      <th></th>\n",
       "      <th>date_from</th>\n",
       "      <th>grid_load</th>\n",
       "    </tr>\n",
       "  </thead>\n",
       "  <tbody>\n",
       "    <tr>\n",
       "      <th>0</th>\n",
       "      <td>2023-01-01 00:00:00+01:00</td>\n",
       "      <td>9720.75</td>\n",
       "    </tr>\n",
       "    <tr>\n",
       "      <th>1</th>\n",
       "      <td>2023-01-01 00:15:00+01:00</td>\n",
       "      <td>9641.25</td>\n",
       "    </tr>\n",
       "    <tr>\n",
       "      <th>2</th>\n",
       "      <td>2023-01-01 00:30:00+01:00</td>\n",
       "      <td>9609.50</td>\n",
       "    </tr>\n",
       "    <tr>\n",
       "      <th>3</th>\n",
       "      <td>2023-01-01 00:45:00+01:00</td>\n",
       "      <td>9565.00</td>\n",
       "    </tr>\n",
       "    <tr>\n",
       "      <th>4</th>\n",
       "      <td>2023-01-01 01:00:00+01:00</td>\n",
       "      <td>9473.50</td>\n",
       "    </tr>\n",
       "  </tbody>\n",
       "</table>\n",
       "</div>"
      ],
      "text/plain": [
       "                  date_from  grid_load\n",
       "0 2023-01-01 00:00:00+01:00    9720.75\n",
       "1 2023-01-01 00:15:00+01:00    9641.25\n",
       "2 2023-01-01 00:30:00+01:00    9609.50\n",
       "3 2023-01-01 00:45:00+01:00    9565.00\n",
       "4 2023-01-01 01:00:00+01:00    9473.50"
      ]
     },
     "execution_count": 181,
     "metadata": {},
     "output_type": "execute_result"
    }
   ],
   "source": [
    "import pandas as pd\n",
    "\n",
    "pd.options.mode.copy_on_write = True\n",
    "\n",
    "YEARS = [2023]\n",
    "\n",
    "df = pd.read_csv(f'data_Energy_Germany/Realised_Demand_Germany_{YEARS[0]}.csv', sep=';')\n",
    "\n",
    "df.drop(['Residual Load [MWh]', 'Pumped Storage [MWh]', 'Date to'], axis=1, inplace=True)\n",
    "df.rename(columns={'Date from': 'date_from', 'Total (Grid Load) [MWh]': 'grid_load'}, inplace=True)\n",
    "\n",
    "# convert to datetime columns\n",
    "\n",
    "df['date_from'] = pd.to_datetime(df['date_from'], format='%d.%m.%y %H:%M').dt.tz_localize('Europe/Berlin', ambiguous='infer')\n",
    "\n",
    "# # handle date_to edge case where data contains 03:00 instead of 02:00 as duplicate DST value\n",
    "# strange_idx = (df['date_to'] == '29.10.23 03:00').idxmax()\n",
    "# df.loc[strange_idx, 'date_to'] = df['date_to'][strange_idx].replace('03:00', '02:00')\n",
    "# df['date_to'] =  pd.to_datetime(df['date_to'], format='%d.%m.%y %H:%M')  # .dt.tz_localize('Europe/Berlin', ambiguous='infer')\n",
    "\n",
    "# convert to float column\n",
    "df.grid_load = df.grid_load.str.replace('.', '').str.replace(',', '.')  # clean float representation\n",
    "df = df.astype({'grid_load': float})\n",
    "\n",
    "df.head()"
   ]
  },
  {
   "cell_type": "code",
   "execution_count": 190,
   "id": "5167a60b-49e4-4106-bf1b-e7fb6b8bcf48",
   "metadata": {},
   "outputs": [],
   "source": [
    "# todo: handle date_to edge case more generally\n",
    "\n",
    "# from zoneinfo import ZoneInfo\n",
    "# from more_itertools import nth\n",
    "\n",
    "# berlin_zone = ZoneInfo(\"Europe/Berlin\")\n",
    "\n",
    "# def is_dst(date):\n",
    "#     return berlin_zone.dst(date).seconds > 0\n",
    "\n",
    "# # strange_dates = df['date_to'][strange_idx-10: strange_idx+10]\n",
    "# strange_dsts = list(map(is_dst, df['date_to']))\n",
    "# strange_idx2 = strange_dsts.index(False)\n",
    "# nth(df['date_to'], strange_idx2)"
   ]
  },
  {
   "cell_type": "code",
   "execution_count": 182,
   "id": "f53b9693-e526-4049-801c-2be8848c1e69",
   "metadata": {},
   "outputs": [
    {
     "data": {
      "text/html": [
       "<div>\n",
       "<style scoped>\n",
       "    .dataframe tbody tr th:only-of-type {\n",
       "        vertical-align: middle;\n",
       "    }\n",
       "\n",
       "    .dataframe tbody tr th {\n",
       "        vertical-align: top;\n",
       "    }\n",
       "\n",
       "    .dataframe thead th {\n",
       "        text-align: right;\n",
       "    }\n",
       "</style>\n",
       "<table border=\"1\" class=\"dataframe\">\n",
       "  <thead>\n",
       "    <tr style=\"text-align: right;\">\n",
       "      <th></th>\n",
       "      <th>date_from</th>\n",
       "      <th>grid_load</th>\n",
       "      <th>day_type</th>\n",
       "    </tr>\n",
       "  </thead>\n",
       "  <tbody>\n",
       "    <tr>\n",
       "      <th>0</th>\n",
       "      <td>2023-01-01 00:00:00+01:00</td>\n",
       "      <td>9720.75</td>\n",
       "      <td>2</td>\n",
       "    </tr>\n",
       "    <tr>\n",
       "      <th>1</th>\n",
       "      <td>2023-01-01 00:15:00+01:00</td>\n",
       "      <td>9641.25</td>\n",
       "      <td>2</td>\n",
       "    </tr>\n",
       "    <tr>\n",
       "      <th>2</th>\n",
       "      <td>2023-01-01 00:30:00+01:00</td>\n",
       "      <td>9609.50</td>\n",
       "      <td>2</td>\n",
       "    </tr>\n",
       "    <tr>\n",
       "      <th>3</th>\n",
       "      <td>2023-01-01 00:45:00+01:00</td>\n",
       "      <td>9565.00</td>\n",
       "      <td>2</td>\n",
       "    </tr>\n",
       "    <tr>\n",
       "      <th>4</th>\n",
       "      <td>2023-01-01 01:00:00+01:00</td>\n",
       "      <td>9473.50</td>\n",
       "      <td>2</td>\n",
       "    </tr>\n",
       "  </tbody>\n",
       "</table>\n",
       "</div>"
      ],
      "text/plain": [
       "                  date_from  grid_load  day_type\n",
       "0 2023-01-01 00:00:00+01:00    9720.75         2\n",
       "1 2023-01-01 00:15:00+01:00    9641.25         2\n",
       "2 2023-01-01 00:30:00+01:00    9609.50         2\n",
       "3 2023-01-01 00:45:00+01:00    9565.00         2\n",
       "4 2023-01-01 01:00:00+01:00    9473.50         2"
      ]
     },
     "execution_count": 182,
     "metadata": {},
     "output_type": "execute_result"
    }
   ],
   "source": [
    "from holidays.utils import country_holidays\n",
    "\n",
    "\n",
    "# === categorize days ===\n",
    "\n",
    "german_holidays = country_holidays('DE', years=YEARS)\n",
    "holiday_dates = set(german_holidays.keys())\n",
    "\n",
    "def get_day_type(timestamp):\n",
    "    if timestamp.date() in holiday_dates or timestamp.day_name() == 'Sunday':\n",
    "        # holiday/sunday\n",
    "        return 2\n",
    "    elif timestamp.day_name() == 'Saturday':\n",
    "        # saturday\n",
    "        return 1\n",
    "    else:\n",
    "        # workday\n",
    "        return 0\n",
    "\n",
    "df = df.assign(day_type=df.date_from.map(get_day_type))\n",
    "df.head()"
   ]
  },
  {
   "cell_type": "code",
   "execution_count": null,
   "id": "56d2b4a2-9646-4a2b-a9f6-9c1435efde5f",
   "metadata": {},
   "outputs": [],
   "source": [
    "grid_load_prev = [None] + list(df.grid_load)\n",
    "grid_load_last_week = df.where()"
   ]
  },
  {
   "cell_type": "markdown",
   "id": "5428c857-2953-4609-b6ec-0b53a1388581",
   "metadata": {
    "jp-MarkdownHeadingCollapsed": true
   },
   "source": [
    "# LinReg"
   ]
  },
  {
   "cell_type": "code",
   "execution_count": 113,
   "id": "c42500e6-029b-40be-8103-66fe2da6796b",
   "metadata": {},
   "outputs": [
    {
     "data": {
      "text/plain": [
       "((17519, 1), (17520, 1), (17519, 1), (17520, 1))"
      ]
     },
     "execution_count": 113,
     "metadata": {},
     "output_type": "execute_result"
    }
   ],
   "source": [
    "from sklearn import linear_model\n",
    "from sklearn.metrics import mean_squared_error, r2_score\n",
    "\n",
    "import matplotlib.pyplot as plt\n",
    "\n",
    "import numpy as np\n",
    "from sklearn.model_selection import train_test_split\n",
    "\n",
    "\n",
    "# prepare data\n",
    "\n",
    "n_steps_ahead = 1  # 4 * 24  # 1 day ahead\n",
    "\n",
    "arr = df['grid_load']\n",
    "X = np.array(arr[:-n_steps_ahead]).reshape(-1, 1)  # (n_samples, n_features)\n",
    "y = np.array(arr[n_steps_ahead:]).reshape(-1, 1)  # (n_samples, n_targets)\n",
    " \n",
    "X_train, X_test, y_train, y_test = train_test_split(X, y, test_size=0.5, shuffle=False)\n",
    "X_train.shape, X_test.shape, y_train.shape, y_test.shape"
   ]
  },
  {
   "cell_type": "code",
   "execution_count": 114,
   "id": "9d2013d5-5612-4303-8093-a39719dd4150",
   "metadata": {},
   "outputs": [
    {
     "name": "stdout",
     "output_type": "stream",
     "text": [
      "Coefficients: \n",
      " [[0.99738755]]\n",
      "Mean squared error: 26823.63\n",
      "Coefficient of determination: 0.99\n"
     ]
    }
   ],
   "source": [
    "# === perform regression ===\n",
    "\n",
    "# Create linear regression object\n",
    "regr = linear_model.LinearRegression()\n",
    "\n",
    "# Train the model using the training sets\n",
    "regr.fit(X_train, y_train)\n",
    "\n",
    "# Make predictions using the testing set\n",
    "y_pred = regr.predict(X_test)\n",
    "\n",
    "# The coefficients\n",
    "print(\"Coefficients: \\n\", regr.coef_)\n",
    "# The mean squared error\n",
    "print(\"Mean squared error: %.2f\" % mean_squared_error(y_test, y_pred))\n",
    "# The coefficient of determination: 1 is perfect prediction\n",
    "print(\"Coefficient of determination: %.2f\" % r2_score(y_test, y_pred))"
   ]
  },
  {
   "cell_type": "code",
   "execution_count": 115,
   "id": "2a330678-3456-4da1-9328-63fd286ffbbc",
   "metadata": {},
   "outputs": [
    {
     "data": {
      "image/png": "[encoded data removed]",
      "text/plain": [
       "<Figure size 1500x700 with 1 Axes>"
      ]
     },
     "metadata": {},
     "output_type": "display_data"
    }
   ],
   "source": [
    "# === plot ===\n",
    "\n",
    "x_plot = np.arange(X_test.size)\n",
    "\n",
    "# Plot outputs\n",
    "\n",
    "fig, ax = plt.subplots(figsize=(15,7))\n",
    "\n",
    "n_points = 100\n",
    "\n",
    "plt.plot(x_plot[:n_points], y_test[:n_points], color=\"black\", label='true', linestyle='dotted')\n",
    "# plt.plot(x_plot[:n_points], X_test[:n_points], color=\"red\", label='inputs', linestyle='dashed')\n",
    "plt.plot(x_plot[:n_points], y_pred[:n_points], color=\"blue\", label='pred', alpha=0.5)\n",
    "\n",
    "# plt.xticks(())\n",
    "# plt.yticks(())\n",
    "\n",
    "plt.legend()\n",
    "plt.show()"
   ]
  }
 ],
 "metadata": {
  "kernelspec": {
   "display_name": "Python 3 (ipykernel)",
   "language": "python",
   "name": "python3"
  },
  "language_info": {
   "codemirror_mode": {
    "name": "ipython",
    "version": 3
   },
   "file_extension": ".py",
   "mimetype": "text/x-python",
   "name": "python",
   "nbconvert_exporter": "python",
   "pygments_lexer": "ipython3",
   "version": "3.11.0"
  }
 },
 "nbformat": 4,
 "nbformat_minor": 5
}
