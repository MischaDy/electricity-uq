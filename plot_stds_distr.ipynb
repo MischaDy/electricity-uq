{
 "cells": [
  {
   "cell_type": "code",
   "execution_count": 3,
   "id": "682b3251-b480-42c4-b66d-91d46d89b085",
   "metadata": {},
   "outputs": [
    {
     "name": "stderr",
     "output_type": "stream",
     "text": [
      "INFO:root:loading data\n",
      "INFO:root:updating run size setup\n",
      "INFO:numexpr.utils:NumExpr defaulting to 8 threads.\n",
      "C:\\Users\\Mischa\\Desktop\\Uni\\Master\\MA\\code\\my_code\\helpers\\misc_helpers.py:116: SettingWithCopyWarning: \n",
      "A value is trying to be set on a copy of a slice from a DataFrame\n",
      "\n",
      "See the caveats in the documentation: https://pandas.pydata.org/pandas-docs/stable/user_guide/indexing.html#returning-a-view-versus-a-copy\n",
      "  arr.drop(columns=ts_cols, inplace=True)  # todo: works bc no ts cols present?\n",
      "C:\\Users\\Mischa\\Desktop\\Uni\\Master\\MA\\code\\my_code\\helpers\\misc_helpers.py:116: SettingWithCopyWarning: \n",
      "A value is trying to be set on a copy of a slice from a DataFrame\n",
      "\n",
      "See the caveats in the documentation: https://pandas.pydata.org/pandas-docs/stable/user_guide/indexing.html#returning-a-view-versus-a-copy\n",
      "  arr.drop(columns=ts_cols, inplace=True)  # todo: works bc no ts cols present?\n",
      "C:\\Users\\Mischa\\Desktop\\Uni\\Master\\MA\\code\\my_code\\helpers\\misc_helpers.py:116: SettingWithCopyWarning: \n",
      "A value is trying to be set on a copy of a slice from a DataFrame\n",
      "\n",
      "See the caveats in the documentation: https://pandas.pydata.org/pandas-docs/stable/user_guide/indexing.html#returning-a-view-versus-a-copy\n",
      "  arr.drop(columns=ts_cols, inplace=True)  # todo: works bc no ts cols present?\n",
      "C:\\Users\\Mischa\\Desktop\\Uni\\Master\\MA\\code\\my_code\\helpers\\misc_helpers.py:116: SettingWithCopyWarning: \n",
      "A value is trying to be set on a copy of a slice from a DataFrame\n",
      "\n",
      "See the caveats in the documentation: https://pandas.pydata.org/pandas-docs/stable/user_guide/indexing.html#returning-a-view-versus-a-copy\n",
      "  arr.drop(columns=ts_cols, inplace=True)  # todo: works bc no ts cols present?\n"
     ]
    },
    {
     "data": {
      "text/plain": [
       "(35040, 1)"
      ]
     },
     "execution_count": 3,
     "metadata": {},
     "output_type": "execute_result"
    }
   ],
   "source": [
    "from helpers.io_helper import IO_Helper\n",
    "from helpers import misc_helpers\n",
    "\n",
    "\n",
    "RUN_SIZE = 'full'\n",
    "\n",
    "X_train, y_train, X_val, y_val, X_test, y_test, X, y, scaler_y = misc_helpers._quick_load_data(RUN_SIZE)\n",
    "y_test.shape"
   ]
  },
  {
   "cell_type": "code",
   "execution_count": 4,
   "id": "de696085-3d0c-458d-80cd-1765acafda04",
   "metadata": {},
   "outputs": [
    {
     "name": "stderr",
     "output_type": "stream",
     "text": [
      "WARNING:root:At least one IO_Helper param of [filename_parts, methods_kwargs] is None, so not all functionality will be available!\n",
      "INFO:root:loading array from comparison_storage\\arrays\\native_mvnn_y_pred_n210432_it100_nh2_hs50.npy\n",
      "INFO:root:loading array from comparison_storage\\arrays\\native_mvnn_y_quantiles_n210432_it100_nh2_hs50.npy\n"
     ]
    },
    {
     "name": "stdout",
     "output_type": "stream",
     "text": [
      "loading pred arrays\n",
      "loading for uq_method='native_mvnn'\n"
     ]
    },
    {
     "name": "stderr",
     "output_type": "stream",
     "text": [
      "INFO:root:loading array from comparison_storage\\arrays\\native_mvnn_y_std_n210432_it100_nh2_hs50.npy\n",
      "INFO:root:loading array from comparison_storage\\arrays\\posthoc_conformal_prediction_base_model_hgbr_y_pred_n210432_it5.npy\n",
      "INFO:root:loading array from comparison_storage\\arrays\\posthoc_conformal_prediction_base_model_hgbr_y_quantiles_n210432_it5.npy\n"
     ]
    },
    {
     "name": "stdout",
     "output_type": "stream",
     "text": [
      "loading for uq_method='posthoc_cp_hgbr'\n"
     ]
    },
    {
     "name": "stderr",
     "output_type": "stream",
     "text": [
      "INFO:root:loading array from comparison_storage\\arrays\\posthoc_conformal_prediction_base_model_hgbr_y_std_n210432_it5.npy\n",
      "INFO:root:loading array from comparison_storage\\arrays\\native_gpytorch_y_pred_n210432_it200_new.npy\n",
      "INFO:root:loading array from comparison_storage\\arrays\\native_gpytorch_y_quantiles_n210432_it200_new.npy\n"
     ]
    },
    {
     "name": "stdout",
     "output_type": "stream",
     "text": [
      "loading for uq_method='native_gp'\n"
     ]
    },
    {
     "name": "stderr",
     "output_type": "stream",
     "text": [
      "INFO:root:loading array from comparison_storage\\arrays\\native_gpytorch_y_std_n210432_it200_new.npy\n",
      "INFO:root:loading array from comparison_storage\\arrays\\posthoc_laplace_approximation_base_model_nn_y_pred_n210432_it1000_la2.npy\n",
      "INFO:root:loading array from comparison_storage\\arrays\\posthoc_laplace_approximation_base_model_nn_y_quantiles_n210432_it1000_la2.npy\n"
     ]
    },
    {
     "name": "stdout",
     "output_type": "stream",
     "text": [
      "loading for uq_method='posthoc_la_nn'\n"
     ]
    },
    {
     "name": "stderr",
     "output_type": "stream",
     "text": [
      "INFO:root:loading array from comparison_storage\\arrays\\posthoc_laplace_approximation_base_model_nn_y_std_n210432_it1000_la2.npy\n",
      "INFO:root:loading array from comparison_storage\\arrays\\native_quantile_regression_nn_y_pred_n210432_it300_nh2_hs50.npy\n",
      "INFO:root:loading array from comparison_storage\\arrays\\native_quantile_regression_nn_y_quantiles_n210432_it300_nh2_hs50.npy\n"
     ]
    },
    {
     "name": "stdout",
     "output_type": "stream",
     "text": [
      "loading for uq_method='native_qr'\n"
     ]
    },
    {
     "name": "stderr",
     "output_type": "stream",
     "text": [
      "INFO:root:loading array from comparison_storage\\arrays\\native_quantile_regression_nn_y_std_n210432_it300_nh2_hs50.npy\n",
      "INFO:root:loading array from comparison_storage\\arrays\\posthoc_conformal_prediction_base_model_linreg_y_pred_n210432_it5.npy\n",
      "INFO:root:loading array from comparison_storage\\arrays\\posthoc_conformal_prediction_base_model_linreg_y_quantiles_n210432_it5.npy\n"
     ]
    },
    {
     "name": "stdout",
     "output_type": "stream",
     "text": [
      "loading for uq_method='posthoc_cp_linreg'\n"
     ]
    },
    {
     "name": "stderr",
     "output_type": "stream",
     "text": [
      "INFO:root:loading array from comparison_storage\\arrays\\posthoc_conformal_prediction_base_model_linreg_y_std_n210432_it5.npy\n",
      "INFO:root:loading array from comparison_storage\\arrays\\posthoc_conformal_prediction_base_model_nn_y_pred_n210432_it5_cp2.npy\n",
      "INFO:root:loading array from comparison_storage\\arrays\\posthoc_conformal_prediction_base_model_nn_y_quantiles_n210432_it5_cp2.npy\n"
     ]
    },
    {
     "name": "stdout",
     "output_type": "stream",
     "text": [
      "loading for uq_method='posthoc_cp_nn'\n"
     ]
    },
    {
     "name": "stderr",
     "output_type": "stream",
     "text": [
      "INFO:root:loading array from comparison_storage\\arrays\\posthoc_conformal_prediction_base_model_nn_y_std_n210432_it5_cp2.npy\n",
      "INFO:root:loading array from comparison_storage\\arrays\\native_qhgbr_y_pred_n210432_it0.npy\n",
      "INFO:root:loading array from comparison_storage\\arrays\\native_qhgbr_y_quantiles_n210432_it0.npy\n"
     ]
    },
    {
     "name": "stdout",
     "output_type": "stream",
     "text": [
      "loading for uq_method='native_qhgbr'\n"
     ]
    },
    {
     "name": "stderr",
     "output_type": "stream",
     "text": [
      "INFO:root:loading array from comparison_storage\\arrays\\native_qhgbr_y_std_n210432_it0.npy\n"
     ]
    },
    {
     "name": "stdout",
     "output_type": "stream",
     "text": [
      "done\n"
     ]
    }
   ],
   "source": [
    "from helpers.io_helper import IO_Helper\n",
    "from collections import defaultdict\n",
    "\n",
    "\n",
    "ARRAYS_FOLDER = 'arrays'\n",
    "MODELS_FOLDER = 'models'\n",
    "\n",
    "METHODS_WHITELIST = {\n",
    "    'native_qhgbr',\n",
    "    'native_qr',\n",
    "    'native_gp',\n",
    "    'native_mvnn',\n",
    "    'posthoc_cp_hgbr',\n",
    "    'posthoc_cp_linreg',\n",
    "    'posthoc_cp_nn',\n",
    "    'posthoc_la_nn',\n",
    "}\n",
    "\n",
    "\n",
    "METHOD_TO_ARR_NAMES_DICT = {\n",
    "    'native_qhgbr': [\n",
    "        'native_qhgbr_y_pred_n210432_it0.npy',\n",
    "        'native_qhgbr_y_quantiles_n210432_it0.npy',\n",
    "        'native_qhgbr_y_std_n210432_it0.npy',\n",
    "    ],\n",
    "    'native_qr': [\n",
    "        'native_quantile_regression_nn_y_pred_n210432_it300_nh2_hs50.npy',\n",
    "        'native_quantile_regression_nn_y_quantiles_n210432_it300_nh2_hs50.npy',\n",
    "        'native_quantile_regression_nn_y_std_n210432_it300_nh2_hs50.npy',\n",
    "    ],\n",
    "    'native_gp': [\n",
    "        'native_gpytorch_y_pred_n210432_it200_new.npy',\n",
    "        'native_gpytorch_y_quantiles_n210432_it200_new.npy',\n",
    "        'native_gpytorch_y_std_n210432_it200_new.npy',\n",
    "    ],\n",
    "    'native_mvnn': [\n",
    "        'native_mvnn_y_pred_n210432_it100_nh2_hs50.npy',\n",
    "        'native_mvnn_y_quantiles_n210432_it100_nh2_hs50.npy',\n",
    "        'native_mvnn_y_std_n210432_it100_nh2_hs50.npy',\n",
    "    ],\n",
    "    'posthoc_cp_hgbr': [\n",
    "        'posthoc_conformal_prediction_base_model_hgbr_y_pred_n210432_it5.npy',\n",
    "        'posthoc_conformal_prediction_base_model_hgbr_y_quantiles_n210432_it5.npy',\n",
    "        'posthoc_conformal_prediction_base_model_hgbr_y_std_n210432_it5.npy',\n",
    "    ],\n",
    "    'posthoc_cp_linreg': [\n",
    "        'posthoc_conformal_prediction_base_model_linreg_y_pred_n210432_it5.npy',\n",
    "        'posthoc_conformal_prediction_base_model_linreg_y_quantiles_n210432_it5.npy',\n",
    "        'posthoc_conformal_prediction_base_model_linreg_y_std_n210432_it5.npy',\n",
    "    ],\n",
    "    'posthoc_cp_nn': [\n",
    "        'posthoc_conformal_prediction_base_model_nn_y_pred_n210432_it5_cp2.npy',\n",
    "        'posthoc_conformal_prediction_base_model_nn_y_quantiles_n210432_it5_cp2.npy',\n",
    "        'posthoc_conformal_prediction_base_model_nn_y_std_n210432_it5_cp2.npy',\n",
    "    ],\n",
    "    'posthoc_la_nn': [\n",
    "        'posthoc_laplace_approximation_base_model_nn_y_pred_n210432_it1000_la2.npy',\n",
    "        'posthoc_laplace_approximation_base_model_nn_y_quantiles_n210432_it1000_la2.npy',\n",
    "        'posthoc_laplace_approximation_base_model_nn_y_std_n210432_it1000_la2.npy',\n",
    "    ],\n",
    "}\n",
    "ARR_TYPES = ['pred', 'quantiles', 'std']  # order in lists above\n",
    "\n",
    "TYPE_TO_METHOD_PAIRS = {\n",
    "    'Baseline: QR vs. CP_LinReg': ['native_qr', 'posthoc_cp_linreg'],\n",
    "    'Tree: QHGBR vs. CP_HGBR': ['native_qhgbr', 'posthoc_cp_hgbr'],\n",
    "    'NN: MVNN vs. CP': ['native_mvnn', 'posthoc_cp_nn'],\n",
    "    'NN: MVNN vs. LA': ['native_mvnn', 'posthoc_la_nn'],\n",
    "    'GP': ['native_gp', None],\n",
    "}\n",
    "\n",
    "print('loading pred arrays')\n",
    "\n",
    "io_helper = IO_Helper(arrays_folder=ARRAYS_FOLDER, models_folder=MODELS_FOLDER)\n",
    "\n",
    "n_samples_test = y_test.shape[0]\n",
    "pred_arrs = defaultdict(dict)\n",
    "for uq_method in METHODS_WHITELIST:\n",
    "    print(f'loading for {uq_method=}')\n",
    "    pred_arrs_names = METHOD_TO_ARR_NAMES_DICT[uq_method]\n",
    "    for arr_type, pred_arr_name in zip(ARR_TYPES, pred_arrs_names):\n",
    "        try:\n",
    "            pred_arr = io_helper.load_array(filename=pred_arr_name)\n",
    "        except FileNotFoundError as e:\n",
    "            print(f'error score array {e.filename} not found, skipping')\n",
    "            continue\n",
    "        pred_arrs[arr_type][uq_method] = pred_arr[-n_samples_test:].squeeze()\n",
    "print('done')"
   ]
  },
  {
   "cell_type": "code",
   "execution_count": 5,
   "id": "f68d00c1-5d40-4838-a3d8-c083146b4f77",
   "metadata": {
    "scrolled": true
   },
   "outputs": [
    {
     "data": {
      "text/plain": [
       "{'pred': {'Baseline: QR vs. CP_LinReg': (array([ 9783.58  ,  9781.988 ,  9695.317 , ..., 10517.1875, 10363.825 ,\n",
       "          10129.327 ], dtype=float32),\n",
       "   array([ 9647.95 ,  9652.949,  9548.094, ..., 10388.907, 10292.132,\n",
       "          10093.748], dtype=float32)),\n",
       "  'Tree: QHGBR vs. CP_HGBR': (array([ 9709.94784506,  9707.31604207,  9611.18431512, ...,\n",
       "          10465.39518253, 10417.45193781, 10105.10182902]),\n",
       "   array([ 9737.56648373,  9745.78686025,  9618.2824374 , ...,\n",
       "          10440.47079603, 10337.36995315, 10083.84929513])),\n",
       "  'NN: MVNN vs. CP': (array([ 9897.499,  9934.347,  9875.633, ..., 10652.775, 10494.646,\n",
       "          10276.348], dtype=float32),\n",
       "   array([ 9709.305,  9704.084,  9615.071, ..., 10511.26 , 10349.859,\n",
       "          10107.834], dtype=float32)),\n",
       "  'NN: MVNN vs. LA': (array([ 9897.499,  9934.347,  9875.633, ..., 10652.775, 10494.646,\n",
       "          10276.348], dtype=float32),\n",
       "   array([ 9709.305,  9704.084,  9615.071, ..., 10511.26 , 10349.859,\n",
       "          10107.834], dtype=float32)),\n",
       "  'GP': (array([ 9698.817,  9731.567,  9671.441, ..., 10518.718, 10342.211,\n",
       "          10102.15 ], dtype=float32),\n",
       "   None)},\n",
       " 'quantiles': {'Baseline: QR vs. CP_LinReg': (array([[ 9377.865 ,  9418.124 ,  9458.167 , ..., 10228.726 , 10439.992 ,\n",
       "           11077.545 ],\n",
       "          [ 9376.184 ,  9416.472 ,  9456.534 , ..., 10227.227 , 10438.575 ,\n",
       "           11076.371 ],\n",
       "          [ 9284.578 ,  9326.463 ,  9367.581 , ..., 10145.595 , 10361.378 ,\n",
       "           11012.475 ],\n",
       "          ...,\n",
       "          [10146.673 , 10176.897 , 10209.006 , ..., 10922.359 , 11097.533 ,\n",
       "           11626.4795],\n",
       "          [ 9986.8545, 10018.698 , 10052.327 , ..., 10776.984 , 10959.505 ,\n",
       "           11510.61  ],\n",
       "          [ 9742.427 ,  9776.777 ,  9812.742 , ..., 10554.727 , 10748.493 ,\n",
       "           11333.517 ]], dtype=float32),\n",
       "   array([[ 8761.10173094,  8916.04099102,  9013.87982453, ...,\n",
       "           10282.02021138, 10379.85904488, 10534.79830497],\n",
       "          [ 8766.10077415,  8921.04003424,  9018.87886774, ...,\n",
       "           10287.01925459, 10384.8580881 , 10539.79734818],\n",
       "          [ 8661.24518521,  8816.1844453 ,  8914.0232788 , ...,\n",
       "           10182.16366565, 10280.00249916, 10434.94175924],\n",
       "          ...,\n",
       "          [ 9502.05867345,  9656.99793354,  9754.83676704, ...,\n",
       "           11022.97715389, 11120.8159874 , 11275.75524748],\n",
       "          [ 9405.28379521,  9560.2230553 ,  9658.0618888 , ...,\n",
       "           10926.20227565, 11024.04110916, 11178.98036924],\n",
       "          [ 9206.89995677,  9361.83921685,  9459.67805036, ...,\n",
       "           10727.81843721, 10825.65727071, 10980.5965308 ]])),\n",
       "  'Tree: QHGBR vs. CP_HGBR': (array([[ 9464.96837461,  9426.58447783,  9460.96736125, ...,\n",
       "            9996.97749587,  9985.06276385, 10100.59766928],\n",
       "          [ 9412.14605506,  9428.98252612,  9430.08064132, ...,\n",
       "            9977.11975255,  9965.97642097, 10134.76135208],\n",
       "          [ 9379.8612289 ,  9416.75326688,  9462.84956067, ...,\n",
       "            9824.18109783,  9877.12363974,  9948.12560824],\n",
       "          ...,\n",
       "          [10179.56742466, 10310.24979418, 10256.76116897, ...,\n",
       "           10646.28882067, 10783.29752279, 10830.0993097 ],\n",
       "          [10035.99528003, 10123.72679847, 10252.47232324, ...,\n",
       "           10653.91973308, 10654.32729242, 10737.95093886],\n",
       "          [ 9764.01553309,  9973.79563075,  9898.96677262, ...,\n",
       "           10390.22365048, 10492.55586931, 10444.1325098 ]]),\n",
       "   array([[ 9314.73499093,  9393.13107555,  9435.62440436, ...,\n",
       "           10039.5085631 , 10082.00189191, 10160.39797653],\n",
       "          [ 9322.95536745,  9401.35145206,  9443.84478088, ...,\n",
       "           10047.72893962, 10090.22226843, 10168.61835305],\n",
       "          [ 9195.4509446 ,  9273.84702922,  9316.34035804, ...,\n",
       "            9920.22451677,  9962.71784559, 10041.11393021],\n",
       "          ...,\n",
       "          [10017.63930323, 10096.03538785, 10138.52871667, ...,\n",
       "           10742.4128754 , 10784.90620422, 10863.30228883],\n",
       "          [ 9914.53846035,  9992.93454497, 10035.42787379, ...,\n",
       "           10639.31203252, 10681.80536134, 10760.20144595],\n",
       "          [ 9661.01780233,  9739.41388695,  9781.90721577, ...,\n",
       "           10385.7913745 , 10428.28470332, 10506.68078793]])),\n",
       "  'NN: MVNN vs. CP': (array([[ 9562.95263368,  9602.15438982,  9627.02664725, ...,\n",
       "           10167.97083471, 10192.84309213, 10232.04484828],\n",
       "          [ 9599.70020006,  9638.9137507 ,  9663.79349135, ...,\n",
       "           10204.90043081, 10229.78017146, 10268.9937221 ],\n",
       "          [ 9540.65880647,  9579.91069113,  9604.81475349, ...,\n",
       "           10146.45066329, 10171.35472565, 10210.60661031],\n",
       "          ...,\n",
       "          [10300.02823645, 10341.36280052, 10367.5882562 , ...,\n",
       "           10937.9630143 , 10964.18846998, 11005.52303405],\n",
       "          [10141.78408652, 10183.13216602, 10209.3661968 , ...,\n",
       "           10779.92745401, 10806.16148479, 10847.5095643 ],\n",
       "          [ 9923.74396838,  9965.06167445,  9991.27643426, ...,\n",
       "           10561.41856906, 10587.63332887, 10628.95103494]]),\n",
       "   array([[ 9205.97438442,  9292.52934144,  9342.17154699, ...,\n",
       "           10076.43874286, 10126.0809484 , 10212.63590542],\n",
       "          [ 9200.75330097,  9287.30825799,  9336.95046353, ...,\n",
       "           10071.2176594 , 10120.85986494, 10207.41482196],\n",
       "          [ 9111.74086579,  9198.29582281,  9247.93802835, ...,\n",
       "            9982.20522422, 10031.84742976, 10118.40238679],\n",
       "          ...,\n",
       "          [10007.9293367 , 10094.48429372, 10144.12649927, ...,\n",
       "           10878.39369514, 10928.03590068, 11014.5908577 ],\n",
       "          [ 9846.52909417,  9933.08405119,  9982.72625673, ...,\n",
       "           10716.9934526 , 10766.63565814, 10853.19061517],\n",
       "          [ 9604.50373992,  9691.05869695,  9740.70090249, ...,\n",
       "           10474.96809836, 10524.6103039 , 10611.16526092]])),\n",
       "  'NN: MVNN vs. LA': (array([[ 9562.95263368,  9602.15438982,  9627.02664725, ...,\n",
       "           10167.97083471, 10192.84309213, 10232.04484828],\n",
       "          [ 9599.70020006,  9638.9137507 ,  9663.79349135, ...,\n",
       "           10204.90043081, 10229.78017146, 10268.9937221 ],\n",
       "          [ 9540.65880647,  9579.91069113,  9604.81475349, ...,\n",
       "           10146.45066329, 10171.35472565, 10210.60661031],\n",
       "          ...,\n",
       "          [10300.02823645, 10341.36280052, 10367.5882562 , ...,\n",
       "           10937.9630143 , 10964.18846998, 11005.52303405],\n",
       "          [10141.78408652, 10183.13216602, 10209.3661968 , ...,\n",
       "           10779.92745401, 10806.16148479, 10847.5095643 ],\n",
       "          [ 9923.74396838,  9965.06167445,  9991.27643426, ...,\n",
       "           10561.41856906, 10587.63332887, 10628.95103494]]),\n",
       "   array([[ 9262.74852858,  9315.0754867 ,  9348.27526398, ...,\n",
       "           10070.33383049, 10103.53360777, 10155.86056589],\n",
       "          [ 9257.53899772,  9309.86463714,  9343.06357774, ...,\n",
       "           10065.10394751, 10098.30288811, 10150.62852753],\n",
       "          [ 9168.52629652,  9220.85200213,  9254.05098473, ...,\n",
       "            9976.09226785, 10009.29125044, 10061.61695605],\n",
       "          ...,\n",
       "          [10064.71932977, 10117.04450077, 10150.24314417, ...,\n",
       "           10872.27705023, 10905.47569363, 10957.80086463],\n",
       "          [ 9903.31766398,  9955.64293172,  9988.84163651, ...,\n",
       "           10710.87687746, 10744.07558224, 10796.40084998],\n",
       "          [ 9661.29126161,  9713.61668719,  9746.81549211, ...,\n",
       "           10468.85291105, 10502.05171597, 10554.37714155]])),\n",
       "  'GP': (array([[ 9159.98355059,  9223.12357959,  9263.18390365, ...,\n",
       "           10134.45180183, 10174.51212589, 10237.65215488],\n",
       "          [ 9184.9722239 ,  9249.02166889,  9289.65898824, ...,\n",
       "           10173.47589803, 10214.11321738, 10278.16266236],\n",
       "          [ 9113.73422809,  9179.08573148,  9220.54916514, ...,\n",
       "           10122.3331508 , 10163.79658446, 10229.14808785],\n",
       "          ...,\n",
       "          [10057.88295633, 10111.88304762, 10146.14437424, ...,\n",
       "           10891.29046919, 10925.55179581, 10979.5518871 ],\n",
       "          [ 9868.67110294,  9924.16003489,  9959.36598318, ...,\n",
       "           10725.05655828, 10760.26250657, 10815.75143852],\n",
       "          [ 9595.16806534,  9654.57569254,  9692.26792734, ...,\n",
       "           10512.03249376, 10549.72472855, 10609.13235576]]),\n",
       "   None)},\n",
       " 'std': {'Baseline: QR vs. CP_LinReg': (array([201.70054583, 201.74017987, 203.90989103, ..., 185.00219722,\n",
       "          188.25590479, 193.32216897]),\n",
       "   array([296.22235066, 296.22235066, 296.22235066, ..., 296.22235066,\n",
       "          296.22235066, 296.22235066])),\n",
       "  'Tree: QHGBR vs. CP_HGBR': (array([127.11848038, 121.42334969, 116.08904432, ..., 124.47356908,\n",
       "          124.89215355, 130.55246224]),\n",
       "   array([146.31606066, 146.31606066, 146.31606066, ..., 146.31606066,\n",
       "          146.31606066, 146.31606066])),\n",
       "  'NN: MVNN vs. CP': (array([143.80742925, 143.85069609, 143.99132033, ..., 151.63140592,\n",
       "          151.68098582, 151.56956413]),\n",
       "   array([178.39047409, 178.39047409, 178.39047409, ..., 178.39047409,\n",
       "          178.39047409, 178.39047409])),\n",
       "  'NN: MVNN vs. LA': (array([143.80742925, 143.85069609, 143.99132033, ..., 151.63140592,\n",
       "          151.68098582, 151.56956413]),\n",
       "   array([191.9558221 , 191.95098458, 191.95122739, ..., 191.94926624,\n",
       "          191.94962111, 191.95020012])),\n",
       "  'GP': (array([231.62241046, 234.95850527, 239.7349666 , ..., 198.09353129,\n",
       "          203.55518325, 217.93049564]),\n",
       "   None)}}"
      ]
     },
     "execution_count": 5,
     "metadata": {},
     "output_type": "execute_result"
    }
   ],
   "source": [
    "pred_arrs_pairwise = {\n",
    "    arr_type: {\n",
    "        method_type: (pred_arrs_dict[method_nat],\n",
    "                      pred_arrs_dict[method_post] if method_post is not None else None)\n",
    "        for method_type, (method_nat, method_post) in TYPE_TO_METHOD_PAIRS.items()\n",
    "    }\n",
    "    for arr_type, pred_arrs_dict in pred_arrs.items()\n",
    "}\n",
    "pred_arrs_pairwise"
   ]
  },
  {
   "cell_type": "code",
   "execution_count": 10,
   "id": "8249f76f-9bd3-4ace-b930-d6770386233f",
   "metadata": {},
   "outputs": [
    {
     "name": "stdout",
     "output_type": "stream",
     "text": [
      "plotting\n",
      "plotting\n",
      "plotting\n",
      "plotting\n"
     ]
    },
    {
     "name": "stderr",
     "output_type": "stream",
     "text": [
      "INFO:root:saving plot to comparison_storage\\plots\\kde_plot_native_stds.png\n"
     ]
    },
    {
     "name": "stdout",
     "output_type": "stream",
     "text": [
      "saving plot\n",
      "showing plot\n"
     ]
    },
    {
     "data": {
      "image/png": "[encoded data removed]",
      "text/plain": [
       "<Figure size 1000x600 with 1 Axes>"
      ]
     },
     "metadata": {},
     "output_type": "display_data"
    }
   ],
   "source": [
    "import seaborn as sns\n",
    "import matplotlib.pyplot as plt\n",
    "\n",
    "FILENAME_STD = f'kde_plot_native_stds.png'\n",
    "DPI = 200\n",
    "BINS = 250\n",
    "\n",
    "std_arrs_native = {method: std_arr for method, std_arr in std_arrs.items() if method.startswith('native_')}\n",
    "\n",
    "# counts, bins = np.histogram(np.ravel(list(std_arrs_native.values())), bins=BINS)\n",
    "fig, ax = plt.subplots(figsize=(10, 6), dpi=DPI)\n",
    "fig.suptitle('STDs KDE Plot')\n",
    "ax.set_xlim(0, 300)\n",
    "ax.set_xlabel('predicted STD')\n",
    "for method, std_arr in std_arrs_native.items():\n",
    "    print('plotting')\n",
    "    # sns.histplot(std_arr, bins=bins, fill=False, element='step', label=method, common_bins=True, ax=ax, alpha=0.1, kde=True)\n",
    "    sns.kdeplot(std_arr, ax=ax, label=method, bw_adjust=0.7)\n",
    "ax.legend()\n",
    "\n",
    "if FILENAME_STD is not None:\n",
    "    print('saving plot')\n",
    "    io_helper.save_plot(filename=FILENAME_STD)\n",
    "print('showing plot')\n",
    "plt.show()"
   ]
  },
  {
   "cell_type": "code",
   "execution_count": 15,
   "id": "c6be8fac-fb9e-4761-a658-e7fcc62cd596",
   "metadata": {},
   "outputs": [
    {
     "name": "stdout",
     "output_type": "stream",
     "text": [
      "\n",
      "method='native_mvnn'\n",
      "min=59.8\n",
      "max=461.0\n",
      "mean=134.4\n",
      "std=57.285\n",
      "\n",
      "method='posthoc_cp_hgbr'\n",
      "min=146.3\n",
      "max=146.3\n",
      "mean=146.3\n",
      "std=0.0\n",
      "\n",
      "method='native_gp'\n",
      "min=60.5\n",
      "max=916.5\n",
      "mean=158.3\n",
      "std=75.106\n",
      "\n",
      "method='posthoc_la_nn'\n",
      "min=191.9\n",
      "max=192.2\n",
      "mean=192.0\n",
      "std=0.014\n",
      "\n",
      "method='native_qr'\n",
      "min=131.7\n",
      "max=262.7\n",
      "mean=173.9\n",
      "std=23.65\n",
      "\n",
      "method='posthoc_cp_linreg'\n",
      "min=296.2\n",
      "max=296.2\n",
      "mean=296.2\n",
      "std=0.0\n",
      "\n",
      "method='posthoc_cp_nn'\n",
      "min=178.4\n",
      "max=178.4\n",
      "mean=178.4\n",
      "std=0.0\n",
      "\n",
      "method='native_qhgbr'\n",
      "min=49.7\n",
      "max=677.5\n",
      "mean=157.9\n",
      "std=54.333\n"
     ]
    }
   ],
   "source": [
    "import numpy as np\n",
    "\n",
    "for method, std_arr in std_arrs.items():\n",
    "    min, max, mean, std = map(lambda func: func(std_arr), [np.min, np.max, np.mean, np.std])\n",
    "    min, max, mean = map(lambda val: round(val, 1), [min, max, mean])\n",
    "    std = round(std, 3)\n",
    "    print(f'\\n{method=}\\n{min=}\\n{max=}\\n{mean=}\\n{std=}')"
   ]
  }
 ],
 "metadata": {
  "kernelspec": {
   "display_name": "Python 3 (ipykernel)",
   "language": "python",
   "name": "python3"
  },
  "language_info": {
   "codemirror_mode": {
    "name": "ipython",
    "version": 3
   },
   "file_extension": ".py",
   "mimetype": "text/x-python",
   "name": "python",
   "nbconvert_exporter": "python",
   "pygments_lexer": "ipython3",
   "version": "3.12.7"
  }
 },
 "nbformat": 4,
 "nbformat_minor": 5
}
